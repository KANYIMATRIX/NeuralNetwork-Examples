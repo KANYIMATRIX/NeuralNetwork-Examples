{
 "cells": [
  {
   "cell_type": "code",
   "execution_count": 4,
   "metadata": {},
   "outputs": [],
   "source": [
    "import numpy as np\n",
    "import matplotlib, matplotlib.pylab as plt\n",
    "%matplotlib inline\n",
    "import csv, collections\n",
    "import pandas as pd\n",
    "import sklearn, sklearn.model_selection, sklearn.tree"
   ]
  },
  {
   "cell_type": "code",
   "execution_count": 1,
   "metadata": {},
   "outputs": [
    {
     "name": "stdout",
     "output_type": "stream",
     "text": [
      "--2019-04-26 16:19:56--  https://raw.githubusercontent.com/ieee8023/NeuralNetwork-Examples/master/general/Modified_KTx_75_patients_April_17_2019.csv\n",
      "Resolving raw.githubusercontent.com (raw.githubusercontent.com)... 151.101.124.133\n",
      "Connecting to raw.githubusercontent.com (raw.githubusercontent.com)|151.101.124.133|:443... connected.\n",
      "HTTP request sent, awaiting response... 416 Range Not Satisfiable\n",
      "\n",
      "    The file is already fully retrieved; nothing to do.\n",
      "\n"
     ]
    }
   ],
   "source": [
    "!wget -c -q https://raw.githubusercontent.com/ieee8023/NeuralNetwork-Examples/master/general/Modified_KTx_75_patients_April_17_2019.csv\n",
    "    "
   ]
  },
  {
   "cell_type": "code",
   "execution_count": 27,
   "metadata": {},
   "outputs": [],
   "source": [
    "data = pd.read_csv(\"Modified_KTx_75_patients_April_17_2019.csv\", index_col=\"P#\")"
   ]
  },
  {
   "cell_type": "code",
   "execution_count": 6,
   "metadata": {},
   "outputs": [],
   "source": [
    "# filter missing data\n",
    "# drop columns that don't have more than 70 real values \n",
    "data = data.dropna(1,thresh=70)\n",
    "# drop all rows which have any NaNs\n",
    "data = data.dropna()"
   ]
  },
  {
   "cell_type": "code",
   "execution_count": null,
   "metadata": {},
   "outputs": [],
   "source": []
  },
  {
   "cell_type": "code",
   "execution_count": null,
   "metadata": {},
   "outputs": [],
   "source": []
  },
  {
   "cell_type": "code",
   "execution_count": 7,
   "metadata": {},
   "outputs": [
    {
     "name": "stdout",
     "output_type": "stream",
     "text": [
      "SEX\n",
      "Last NGFR Feb 2019\n",
      "CMV_STATUS\n",
      "K_PUMPED\n",
      "Induction\n",
      "Diagnosis\n"
     ]
    }
   ],
   "source": [
    "# convert categorical columns to ids\n",
    "for col in data:\n",
    "    if data[col].dtype == \"object\":\n",
    "        print (col)\n",
    "        data = data.join(pd.get_dummies(data[col], prefix=col))\n",
    "        del data[col]"
   ]
  },
  {
   "cell_type": "code",
   "execution_count": null,
   "metadata": {},
   "outputs": [],
   "source": []
  },
  {
   "cell_type": "code",
   "execution_count": null,
   "metadata": {},
   "outputs": [],
   "source": []
  },
  {
   "cell_type": "code",
   "execution_count": 8,
   "metadata": {},
   "outputs": [],
   "source": [
    "features = [col for col in data.columns if \"Outcome\" not in col]\n",
    "targets = [col for col in data.columns if \"Outcome\" in col]"
   ]
  },
  {
   "cell_type": "code",
   "execution_count": 18,
   "metadata": {
    "scrolled": false
   },
   "outputs": [],
   "source": [
    "# to just select a subset of features\n",
    "features = [feat for feat in features if feat.startswith(\"CD4\")]"
   ]
  },
  {
   "cell_type": "code",
   "execution_count": 19,
   "metadata": {
    "scrolled": false
   },
   "outputs": [
    {
     "data": {
      "text/plain": [
       "['CD4+CD25hiFoxP3+ abs',\n",
       " 'CD4+CD25hiFoxP3+ perc',\n",
       " 'CD4+CD25neg abs',\n",
       " 'CD4+CD25neg perc',\n",
       " 'CD4+CD25hiCD127- abs',\n",
       " 'CD4+CD25hiCD127- perc',\n",
       " 'CD4+CD25hiCD127-b0.83',\n",
       " 'CD4+CD120b+CD127- abs',\n",
       " 'CD4+CD120b+CD127- perc',\n",
       " 'CD4+IL17+ abs',\n",
       " 'CD4+IL17+ perc',\n",
       " 'CD4+CD127- abs',\n",
       " 'CD4+CD127- perc',\n",
       " 'CD4+CD25+ abs',\n",
       " 'CD4+CD25+ perc',\n",
       " 'CD4+FoxP3- perc',\n",
       " 'CD4+FoxP3+ perc',\n",
       " 'CD4+CD25hi abs',\n",
       " 'CD4+CD25hi perc',\n",
       " 'CD4+CD25lo abs',\n",
       " 'CD4+CD25lo perc',\n",
       " 'CD4+ (%) -2',\n",
       " 'CD4+abs106 -2',\n",
       " 'CD4+CD127-loTNFR2+%',\n",
       " 'CD4+CD127-loTNFR2+abs106',\n",
       " 'CD4+CD25+hiCD127-lo%',\n",
       " 'CD4+CD25+hiCD127-loabs',\n",
       " 'CD4+CD127lo/- 1',\n",
       " 'CD4+CD127lo/-abs106 1',\n",
       " 'CD4+CD127+ 1',\n",
       " 'CD4+CD127lo/- 2',\n",
       " 'CD4+CD127+ 2',\n",
       " 'CD4+CD127lo/-TNFR2+ to CD4+CD25- ratio',\n",
       " 'CD4+CD127lo/-TNFR2+ to CD4+FoxP3- ratio',\n",
       " 'CD4+CD127lo/-TNFR2+ to CD4+CD127+ ratio',\n",
       " 'CD4+IL17+ to CD4+CD127lo/-TNFR2+ ratio',\n",
       " 'CD4+CD127lo/-TNFR2+ to CD4+IL17+ratio',\n",
       " 'CD4 to CD4+CD127lo/-TNFR2+']"
      ]
     },
     "execution_count": 19,
     "metadata": {},
     "output_type": "execute_result"
    }
   ],
   "source": [
    "# features considered\n",
    "features"
   ]
  },
  {
   "cell_type": "code",
   "execution_count": 20,
   "metadata": {},
   "outputs": [],
   "source": [
    "X_train, X_test, y_train, y_test = sklearn.model_selection.train_test_split(data[features], \n",
    "                                                                            data[targets][\"Outcome 1\"],\n",
    "                                                                            stratify=data[targets][\"Outcome 1\"],\n",
    "                                                                            test_size=0.3, \n",
    "                                                                            random_state=0)\n"
   ]
  },
  {
   "cell_type": "code",
   "execution_count": 21,
   "metadata": {},
   "outputs": [
    {
     "name": "stdout",
     "output_type": "stream",
     "text": [
      "Distribution in training data: Counter({1: 22, 0: 10})\n",
      "Distribution in test data: Counter({1: 11, 0: 4})\n"
     ]
    }
   ],
   "source": [
    "print(\"Distribution in training data:\", collections.Counter(y_train))\n",
    "print(\"Distribution in test data:\", collections.Counter(y_test))"
   ]
  },
  {
   "cell_type": "code",
   "execution_count": null,
   "metadata": {},
   "outputs": [],
   "source": []
  },
  {
   "cell_type": "code",
   "execution_count": 22,
   "metadata": {},
   "outputs": [
    {
     "data": {
      "text/plain": [
       "DecisionTreeClassifier(class_weight=None, criterion='gini', max_depth=None,\n",
       "            max_features=None, max_leaf_nodes=6, min_impurity_decrease=0.0,\n",
       "            min_impurity_split=None, min_samples_leaf=5,\n",
       "            min_samples_split=2, min_weight_fraction_leaf=0.0,\n",
       "            presort=False, random_state=0, splitter='best')"
      ]
     },
     "execution_count": 22,
     "metadata": {},
     "output_type": "execute_result"
    }
   ],
   "source": [
    "model = sklearn.tree.DecisionTreeClassifier(max_leaf_nodes=6, random_state=0, min_samples_leaf=5)\n",
    "model.fit(X_train, y_train)"
   ]
  },
  {
   "cell_type": "code",
   "execution_count": null,
   "metadata": {},
   "outputs": [],
   "source": []
  },
  {
   "cell_type": "code",
   "execution_count": 23,
   "metadata": {},
   "outputs": [
    {
     "name": "stdout",
     "output_type": "stream",
     "text": [
      "AUC on train set:  0.8590909090909091\n",
      "AUC on test set:  0.8181818181818181\n"
     ]
    }
   ],
   "source": [
    "# how accurate\n",
    "print (\"AUC on train set: \",sklearn.metrics.roc_auc_score(y_train, model.predict(X_train)))\n",
    "print (\"AUC on test set: \",sklearn.metrics.roc_auc_score(y_test, model.predict(X_test)))"
   ]
  },
  {
   "cell_type": "code",
   "execution_count": null,
   "metadata": {},
   "outputs": [],
   "source": []
  },
  {
   "cell_type": "code",
   "execution_count": 24,
   "metadata": {},
   "outputs": [
    {
     "data": {
      "image/png": "[encoded data removed]",
      "text/plain": [
       "<PIL.PngImagePlugin.PngImageFile image mode=RGBA size=631x288 at 0x11698EF98>"
      ]
     },
     "execution_count": 24,
     "metadata": {},
     "output_type": "execute_result"
    }
   ],
   "source": [
    "dotfile = open('tree.dot', 'w')\n",
    "sklearn.tree.export_graphviz(model, out_file = dotfile, feature_names = X_train.columns, impurity=False)\n",
    "dotfile.close()\n",
    "\n",
    "from graphviz import Source\n",
    "src = Source(open('tree.dot', 'r').read(),format='png')\n",
    "src.render(\"tree\")\n",
    "\n",
    "from PIL import Image                                                                \n",
    "Image.open('tree.png')"
   ]
  },
  {
   "cell_type": "code",
   "execution_count": null,
   "metadata": {},
   "outputs": [],
   "source": []
  },
  {
   "cell_type": "code",
   "execution_count": null,
   "metadata": {},
   "outputs": [],
   "source": []
  },
  {
   "cell_type": "code",
   "execution_count": null,
   "metadata": {},
   "outputs": [],
   "source": []
  }
 ],
 "metadata": {
  "kernelspec": {
   "display_name": "Python 3",
   "language": "python",
   "name": "python3"
  },
  "language_info": {
   "codemirror_mode": {
    "name": "ipython",
    "version": 3
   },
   "file_extension": ".py",
   "mimetype": "text/x-python",
   "name": "python",
   "nbconvert_exporter": "python",
   "pygments_lexer": "ipython3",
   "version": "3.7.3"
  }
 },
 "nbformat": 4,
 "nbformat_minor": 2
}
