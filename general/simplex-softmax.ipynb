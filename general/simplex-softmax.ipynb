{
 "cells": [
  {
   "cell_type": "code",
   "execution_count": 1,
   "metadata": {
    "collapsed": true
   },
   "outputs": [],
   "source": [
    "\"\"\"\n",
    "Softmax simplex visulaizer\n",
    "To show the relationshp between presoftmax \n",
    "values and the simplex projection\n",
    "\n",
    "Joseph Paul Cohen 2018\n",
    "Using code by David Andrzejewski\n",
    "\n",
    "\"\"\"\n",
    "\n",
    "import matplotlib\n",
    "import matplotlib.pyplot as plt\n",
    "%matplotlib inline\n",
    "import numpy as np"
   ]
  },
  {
   "cell_type": "code",
   "execution_count": 2,
   "metadata": {
    "collapsed": true
   },
   "outputs": [],
   "source": [
    "\"\"\"\n",
    "Visualize points on the 3-simplex (eg, the parameters of a\n",
    "3-dimensional multinomial distributions) as a scatter plot \n",
    "contained within a 2D triangle.\n",
    "\n",
    "David Andrzejewski (david.andrzej@gmail.com)\n",
    "\"\"\"\n",
    "import matplotlib.ticker as MT\n",
    "import matplotlib.lines as L\n",
    "\n",
    "def plotSimplex(points, fig=None, vertexlabels=['Class 1','Class 2','Class 3'], **kwargs):\n",
    "    \"\"\"\n",
    "    Plot Nx3 points array on the 3-simplex \n",
    "    (with optionally labeled vertices) \n",
    "    \n",
    "    kwargs will be passed along directly to matplotlib.pyplot.scatter    \n",
    "\n",
    "    Returns Figure, caller must .show()\n",
    "    \"\"\"\n",
    "    if(fig == None):        \n",
    "        fig = plt.figure()\n",
    "    # Draw the triangle\n",
    "    l1 = L.Line2D([0, 0.5, 1.0, 0], # xcoords\n",
    "                  [0, np.sqrt(3) / 2, 0, 0], # ycoords\n",
    "                  color='k')\n",
    "    fig.gca().add_line(l1)\n",
    "    fig.gca().xaxis.set_major_locator(MT.NullLocator())\n",
    "    fig.gca().yaxis.set_major_locator(MT.NullLocator())\n",
    "    # Draw vertex labels\n",
    "    fig.gca().text(-0.05, -0.05, vertexlabels[0])\n",
    "    fig.gca().text(1.05, -0.05, vertexlabels[1])\n",
    "    fig.gca().text(0.5, np.sqrt(3) / 2 + 0.05, vertexlabels[2])\n",
    "    # Project and draw the actual points\n",
    "    projected = projectSimplex(points)\n",
    "    plt.scatter(projected[:,0], projected[:,1], **kwargs)       ;       \n",
    "    # Leave some buffer around the triangle for vertex labels\n",
    "    fig.gca().set_xlim(-0.2, 1.2)\n",
    "    fig.gca().set_ylim(-0.2, 1.2)\n",
    "\n",
    "    return fig    \n",
    "\n",
    "def projectSimplex(points):\n",
    "    \"\"\" \n",
    "    Project probabilities on the 3-simplex to a 2D triangle\n",
    "    \n",
    "    N points are given as N x 3 array\n",
    "    \"\"\"\n",
    "    # Convert points one at a time\n",
    "    tripts = np.zeros((points.shape[0],2))\n",
    "    for idx in range(points.shape[0]):\n",
    "        # Init to triangle centroid\n",
    "        x = 1.0 / 2\n",
    "        y = 1.0 / (2 * np.sqrt(3))\n",
    "        # Vector 1 - bisect out of lower left vertex \n",
    "        p1 = points[idx, 0]\n",
    "        x = x - (1.0 / np.sqrt(3)) * p1 * np.cos(np.pi / 6)\n",
    "        y = y - (1.0 / np.sqrt(3)) * p1 * np.sin(np.pi / 6)\n",
    "        # Vector 2 - bisect out of lower right vertex  \n",
    "        p2 = points[idx, 1]  \n",
    "        x = x + (1.0 / np.sqrt(3)) * p2 * np.cos(np.pi / 6)\n",
    "        y = y - (1.0 / np.sqrt(3)) * p2 * np.sin(np.pi / 6)        \n",
    "        # Vector 3 - bisect out of top vertex\n",
    "        p3 = points[idx, 2]\n",
    "        y = y + (1.0 / np.sqrt(3) * p3)\n",
    "      \n",
    "        tripts[idx,:] = (x,y)\n",
    "\n",
    "    return tripts\n",
    "\n",
    "def softmax(x):\n",
    "    e_x = np.exp(x - np.max(x))\n",
    "    return e_x / e_x.sum(axis=0)"
   ]
  },
  {
   "cell_type": "code",
   "execution_count": null,
   "metadata": {
    "collapsed": true
   },
   "outputs": [],
   "source": []
  },
  {
   "cell_type": "code",
   "execution_count": null,
   "metadata": {
    "collapsed": true
   },
   "outputs": [],
   "source": []
  },
  {
   "cell_type": "code",
   "execution_count": null,
   "metadata": {
    "collapsed": true
   },
   "outputs": [],
   "source": []
  },
  {
   "cell_type": "code",
   "execution_count": 3,
   "metadata": {
    "collapsed": true
   },
   "outputs": [],
   "source": [
    "def plot(x, y, z):\n",
    "    step=0\n",
    "    dot = np.asarray([x, y, z])\n",
    "    testpoints = [softmax([x, y, z])]\n",
    "    \n",
    "    steps = np.arange(0.1,1,0.1)\n",
    "    for i1 in steps:\n",
    "        i1 = -np.log(i1)\n",
    "        testpoints.append(softmax([x+i1, y, z]))\n",
    "    for i1 in steps:\n",
    "        i1 = -np.log(i1)\n",
    "        testpoints.append(softmax([x, y+i1, z]))\n",
    "    for i1 in steps:\n",
    "        i1 = -np.log(i1)\n",
    "        testpoints.append(softmax([x, y, z+i1]))\n",
    "        \n",
    "#     steps = np.arange(0.0,step,0.1)\n",
    "#     for i1 in steps:\n",
    "#         for i2 in steps:\n",
    "#             for i3 in steps:\n",
    "#                 if np.linalg.norm(np.subtract(dot, [x+i1, y+i2, z+i3]), 1).sum()<step:\n",
    "#                     testpoints.append(softmax([x+i1, y+i2, z+i3]))\n",
    "    \n",
    "    testpoints = np.asarray(testpoints)\n",
    "    \n",
    "    cmap = matplotlib.cm.get_cmap('spectral')\n",
    "    norm = matplotlib.colors.Normalize(vmin=0, vmax=len(testpoints))\n",
    "    sizes = [5]*len(testpoints)\n",
    "    sizes[0] = 100\n",
    "    fig = plotSimplex(testpoints, s=sizes, cmap=cmap, norm=norm, c=range(len(testpoints)))\n",
    "    # Make color-label legend\n",
    "    plt.legend([matplotlib.patches.Rectangle((0, 0), 1, 1, fc=cmap(norm(idx)))\n",
    "                for idx in range(len(testpoints[:1]))], \n",
    "                testpoints[:1])\n",
    "    plt.show();"
   ]
  },
  {
   "cell_type": "code",
   "execution_count": null,
   "metadata": {
    "collapsed": true
   },
   "outputs": [],
   "source": []
  },
  {
   "cell_type": "code",
   "execution_count": 4,
   "metadata": {
    "collapsed": true
   },
   "outputs": [],
   "source": [
    "from ipywidgets import interact, interactive, fixed, interact_manual\n",
    "import ipywidgets"
   ]
  },
  {
   "cell_type": "code",
   "execution_count": 6,
   "metadata": {},
   "outputs": [
    {
     "data": {
      "image/png": "[encoded data removed]",
      "text/plain": [
       "<matplotlib.figure.Figure at 0x10eb01d50>"
      ]
     },
     "metadata": {},
     "output_type": "display_data"
    }
   ],
   "source": [
    "plt.rcParams['figure.figsize'] = (7, 7)\n",
    "x_widget = ipywidgets.FloatSlider(min=-4.0, max=4.0, step=0.05);\n",
    "y_widget = ipywidgets.FloatSlider(min=-4.0, max=4.0, step=0.05);\n",
    "z_widget = ipywidgets.FloatSlider(min=-4.0, max=4.0, step=0.05);\n",
    "#step = ipywidgets.FloatSlider(min=0, max=5, step=0.1);\n",
    "interact(plot,x=x_widget, y=y_widget, z=z_widget)#, step=step);"
   ]
  },
  {
   "cell_type": "code",
   "execution_count": null,
   "metadata": {
    "collapsed": true
   },
   "outputs": [],
   "source": []
  },
  {
   "cell_type": "code",
   "execution_count": null,
   "metadata": {
    "collapsed": true
   },
   "outputs": [],
   "source": []
  },
  {
   "cell_type": "code",
   "execution_count": null,
   "metadata": {
    "collapsed": true
   },
   "outputs": [],
   "source": []
  },
  {
   "cell_type": "code",
   "execution_count": null,
   "metadata": {
    "collapsed": true
   },
   "outputs": [],
   "source": []
  },
  {
   "cell_type": "code",
   "execution_count": null,
   "metadata": {
    "collapsed": true
   },
   "outputs": [],
   "source": []
  }
 ],
 "metadata": {
  "kernelspec": {
   "display_name": "Python 2",
   "language": "python",
   "name": "python2"
  },
  "language_info": {
   "codemirror_mode": {
    "name": "ipython",
    "version": 2
   },
   "file_extension": ".py",
   "mimetype": "text/x-python",
   "name": "python",
   "nbconvert_exporter": "python",
   "pygments_lexer": "ipython2",
   "version": "2.7.13"
  },
  "widgets": {
   "state": {},
   "version": "2.0.10"
  }
 },
 "nbformat": 4,
 "nbformat_minor": 2
}
