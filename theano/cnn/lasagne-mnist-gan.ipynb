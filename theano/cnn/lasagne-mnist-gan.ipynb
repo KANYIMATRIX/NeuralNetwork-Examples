{
 "cells": [
  {
   "cell_type": "markdown",
   "metadata": {},
   "source": [
    "GAN Example - Joseph Paul Cohen 2017\n",
    "\n",
    "This is trained on MNIST based on DC-GAN and code from Francis Dutil"
   ]
  },
  {
   "cell_type": "code",
   "execution_count": 1,
   "metadata": {
    "collapsed": false
   },
   "outputs": [
    {
     "name": "stderr",
     "output_type": "stream",
     "text": [
      "Using cuDNN version 5105 on context None\n",
      "Mapped name None to device cuda0: TITAN X (Pascal) (0000:09:00.0)\n"
     ]
    },
    {
     "name": "stdout",
     "output_type": "stream",
     "text": [
      "theano 0.9.0.dev-RELEASE\n",
      "lasagne 0.2.dev1\n"
     ]
    }
   ],
   "source": [
    "import theano\n",
    "import numpy as np\n",
    "import matplotlib.pylab as plt\n",
    "import csv, os, random, sys\n",
    "\n",
    "import lasagne\n",
    "from lasagne.layers.normalization import BatchNormLayer\n",
    "from lasagne.layers import Conv2DLayer, InputLayer, ConcatLayer\n",
    "from lasagne.layers import DenseLayer, Pool2DLayer, FlattenLayer\n",
    "\n",
    "print \"theano\",theano.version.full_version\n",
    "print \"lasagne\",lasagne.__version__"
   ]
  },
  {
   "cell_type": "code",
   "execution_count": null,
   "metadata": {
    "collapsed": false
   },
   "outputs": [],
   "source": []
  },
  {
   "cell_type": "code",
   "execution_count": 2,
   "metadata": {
    "collapsed": false
   },
   "outputs": [],
   "source": [
    "#Set seed for random numbers:\n",
    "np.random.seed(1234)\n",
    "lasagne.random.set_rng(np.random.RandomState(1234))"
   ]
  },
  {
   "cell_type": "code",
   "execution_count": null,
   "metadata": {
    "collapsed": false
   },
   "outputs": [],
   "source": []
  },
  {
   "cell_type": "code",
   "execution_count": 3,
   "metadata": {
    "collapsed": true
   },
   "outputs": [],
   "source": [
    "if sys.version_info[0] == 2:\n",
    "    from urllib import urlretrieve\n",
    "else:\n",
    "    from urllib.request import urlretrieve\n",
    "\n",
    "def download(filename, source='http://yann.lecun.com/exdb/mnist/'):\n",
    "    print(\"Downloading %s\" % filename)\n",
    "    urlretrieve(source + filename, filename)\n",
    "\n",
    "import gzip\n",
    "def load_mnist_images(filename):\n",
    "    if not os.path.exists(filename):\n",
    "        download(filename)\n",
    "    with gzip.open(filename, 'rb') as f:\n",
    "        data = np.frombuffer(f.read(), np.uint8, offset=16)\n",
    "    data = data.reshape(-1, 1, 28, 28).transpose(0,1,3,2)\n",
    "    data = np.asarray([np.rot90(np.fliplr(x[0])) for x in data])\n",
    "    data = data.reshape(-1, 1, 28, 28)\n",
    "    return data / np.float32(255)\n",
    "\n",
    "def load_mnist_labels(filename):\n",
    "    if not os.path.exists(filename):\n",
    "        download(filename)\n",
    "    with gzip.open(filename, 'rb') as f:\n",
    "        data = np.frombuffer(f.read(), np.uint8, offset=8)\n",
    "    return data\n",
    "\n",
    "x_train = load_mnist_images('train-images-idx3-ubyte.gz')\n",
    "t_train = load_mnist_labels('train-labels-idx1-ubyte.gz')\n",
    "x_test = load_mnist_images('t10k-images-idx3-ubyte.gz')\n",
    "t_test = load_mnist_labels('t10k-labels-idx1-ubyte.gz')\n",
    "x_train, x_val = x_train[:-10000], x_train[-10000:]\n",
    "t_train, t_val = t_train[:-10000], t_train[-10000:]"
   ]
  },
  {
   "cell_type": "code",
   "execution_count": null,
   "metadata": {
    "collapsed": true
   },
   "outputs": [],
   "source": []
  },
  {
   "cell_type": "code",
   "execution_count": 4,
   "metadata": {
    "collapsed": false
   },
   "outputs": [
    {
     "data": {
      "image/png": "[encoded data removed]",
      "text/plain": [
       "<matplotlib.figure.Figure at 0x7f7d541d87d0>"
      ]
     },
     "metadata": {},
     "output_type": "display_data"
    }
   ],
   "source": [
    "%matplotlib inline\n",
    "plt.rcParams['figure.figsize'] = (10, 5)\n",
    "plt.imshow(x_train[0][0],interpolation='none', cmap='gray');"
   ]
  },
  {
   "cell_type": "code",
   "execution_count": null,
   "metadata": {
    "collapsed": true
   },
   "outputs": [],
   "source": []
  },
  {
   "cell_type": "code",
   "execution_count": 5,
   "metadata": {
    "collapsed": true
   },
   "outputs": [],
   "source": [
    "num_units = 1024\n",
    "encoder_size = 100\n",
    "noise_size = 100"
   ]
  },
  {
   "cell_type": "code",
   "execution_count": null,
   "metadata": {
    "collapsed": true
   },
   "outputs": [],
   "source": []
  },
  {
   "cell_type": "code",
   "execution_count": 6,
   "metadata": {
    "collapsed": true
   },
   "outputs": [],
   "source": [
    "import theano\n",
    "import theano.tensor as T\n",
    "import lasagne\n",
    "import lasagne.layers\n",
    "from lasagne.layers.normalization import BatchNormLayer\n",
    "from lasagne.layers import InputLayer, Conv2DLayer, Pool2DLayer, DenseLayer, MaxPool2DLayer, Upscale2DLayer\n",
    "from lasagne.layers import ConcatLayer, DropoutLayer, ReshapeLayer, TransposedConv2DLayer"
   ]
  },
  {
   "cell_type": "code",
   "execution_count": 7,
   "metadata": {
    "collapsed": false
   },
   "outputs": [
    {
     "name": "stdout",
     "output_type": "stream",
     "text": [
      "(None, 100)\n",
      "(None, 100, 1, 1)\n",
      "(None, 1024, 4, 4)\n",
      "(None, 512, 11, 11)\n",
      "(None, 256, 26, 26)\n",
      "(None, 128, 31, 31)\n",
      "(None, 1, 28, 28)\n"
     ]
    }
   ],
   "source": [
    "gen_input_var = T.matrix(\"gen_input_var\")\n",
    "\n",
    "gen = lasagne.layers.InputLayer(shape=(None, noise_size),input_var=gen_input_var)\n",
    "print gen.output_shape\n",
    "\n",
    "gen = lasagne.layers.ReshapeLayer(gen, (-1, noise_size, 1, 1))\n",
    "print gen.output_shape\n",
    "gen = BatchNormLayer(TransposedConv2DLayer(gen, num_filters=num_units, filter_size=4, stride=1))\n",
    "print gen.output_shape\n",
    "\n",
    "gen = BatchNormLayer(TransposedConv2DLayer(gen, num_filters=num_units/2, filter_size=8, stride=1))\n",
    "print gen.output_shape\n",
    "\n",
    "gen = BatchNormLayer(TransposedConv2DLayer(gen, num_filters=num_units/4, filter_size=16, stride=1))\n",
    "print gen.output_shape\n",
    "\n",
    "gen = TransposedConv2DLayer(gen, num_filters=num_units/8, filter_size=6)\n",
    "print gen.output_shape\n",
    "\n",
    "gen = Conv2DLayer(gen, num_filters=1, filter_size=4, nonlinearity=lasagne.nonlinearities.sigmoid)\n",
    "print gen.output_shape"
   ]
  },
  {
   "cell_type": "code",
   "execution_count": 8,
   "metadata": {
    "collapsed": false
   },
   "outputs": [
    {
     "name": "stdout",
     "output_type": "stream",
     "text": [
      "(None, 1, 28, 28)\n",
      "(None, 256, 14, 14)\n",
      "(None, 512, 7, 7)\n",
      "(None, 1024, 4, 4)\n",
      "(None, 1)\n"
     ]
    }
   ],
   "source": [
    "lrelu = lasagne.nonlinearities.LeakyRectify(0.2)\n",
    "\n",
    "disc = lasagne.layers.InputLayer(shape=(None, 1, 28, 28), input_var=None)\n",
    "print disc.output_shape\n",
    "\n",
    "disc = BatchNormLayer(Conv2DLayer(disc, num_filters=num_units/4, filter_size=5, stride=2, pad=2, nonlinearity=lrelu))\n",
    "print disc.output_shape\n",
    "\n",
    "disc = BatchNormLayer(Conv2DLayer(disc, num_filters=num_units/2, filter_size=5, stride=2, pad=2, nonlinearity=lrelu))\n",
    "print disc.output_shape\n",
    "\n",
    "disc = (Conv2DLayer(disc, num_filters=num_units, filter_size=5, stride=2, pad=2, nonlinearity=lrelu))\n",
    "print disc.output_shape\n",
    "\n",
    "disc = FlattenLayer(disc)\n",
    "disc = DenseLayer(disc, 1, nonlinearity=lasagne.nonlinearities.sigmoid)\n",
    "print disc.output_shape"
   ]
  },
  {
   "cell_type": "code",
   "execution_count": null,
   "metadata": {
    "collapsed": false
   },
   "outputs": [],
   "source": []
  },
  {
   "cell_type": "code",
   "execution_count": null,
   "metadata": {
    "collapsed": true
   },
   "outputs": [],
   "source": []
  },
  {
   "cell_type": "code",
   "execution_count": 9,
   "metadata": {
    "collapsed": false
   },
   "outputs": [
    {
     "name": "stdout",
     "output_type": "stream",
     "text": [
      "Computing functions\n",
      "Done\n"
     ]
    }
   ],
   "source": [
    "# create train functions \n",
    "lr = theano.shared(np.array(0., dtype=theano.config.floatX))\n",
    "\n",
    "gen_output = lasagne.layers.get_output(gen)\n",
    "\n",
    "one = T.constant(1., dtype=theano.config.floatX)\n",
    "input_real = T.tensor4('target')\n",
    "\n",
    "\n",
    "disc_output_fake = lasagne.layers.get_output(disc, inputs=gen_output)\n",
    "disc_output_real = lasagne.layers.get_output(disc, inputs=input_real)\n",
    "disc_loss = -(T.log(disc_output_real) + T.log(one-disc_output_fake)).mean()\n",
    "disc_params = lasagne.layers.get_all_params(disc, trainable=True)\n",
    "disc_updates = lasagne.updates.adam(disc_loss, disc_params, learning_rate=lr, beta1=0.5)\n",
    "\n",
    "\n",
    "gen_loss = -T.log(disc_output_fake).mean()\n",
    "gen_params = lasagne.layers.get_all_params(gen, trainable=True)\n",
    "gen_updates = lasagne.updates.adam(gen_loss, gen_params, learning_rate=lr, beta1=0.5)\n",
    "\n",
    "\n",
    "print \"Computing functions\"\n",
    "\n",
    "gen_fn = theano.function([gen_input_var], gen_output, allow_input_downcast=True)\n",
    "\n",
    "train_gen_fn = theano.function([gen_input_var], \n",
    "                               [gen_loss],\n",
    "                               updates=gen_updates, \n",
    "                               allow_input_downcast=True)\n",
    "\n",
    "disc_fn = theano.function([input_real], disc_output_real, allow_input_downcast=True)\n",
    "\n",
    "train_disc_fn = theano.function([gen_input_var, input_real], \n",
    "                                [disc_loss],\n",
    "                                updates=disc_updates,\n",
    "                                allow_input_downcast=True)\n",
    "\n",
    "print \"Done\""
   ]
  },
  {
   "cell_type": "code",
   "execution_count": null,
   "metadata": {
    "collapsed": false
   },
   "outputs": [],
   "source": []
  },
  {
   "cell_type": "code",
   "execution_count": 10,
   "metadata": {
    "collapsed": false
   },
   "outputs": [
    {
     "name": "stdout",
     "output_type": "stream",
     "text": [
      "(10, 1, 28, 28)\n"
     ]
    },
    {
     "data": {
      "image/png": "[encoded data removed]",
      "text/plain": [
       "<matplotlib.figure.Figure at 0x7f7d23432fd0>"
      ]
     },
     "metadata": {},
     "output_type": "display_data"
    }
   ],
   "source": [
    "noise = np.random.uniform(size=(10, noise_size))\n",
    "img = gen_fn(noise)\n",
    "print img.shape\n",
    "\n",
    "%matplotlib inline\n",
    "plt.rcParams['figure.figsize'] = (20, 5)\n",
    "plt.imshow(np.concatenate(img[:,0], axis=1),interpolation='none', cmap='gray');"
   ]
  },
  {
   "cell_type": "code",
   "execution_count": null,
   "metadata": {
    "collapsed": true
   },
   "outputs": [],
   "source": []
  },
  {
   "cell_type": "code",
   "execution_count": 11,
   "metadata": {
    "collapsed": false
   },
   "outputs": [
    {
     "data": {
      "text/plain": [
       "array([[ 0.49940073],\n",
       "       [ 0.50084448],\n",
       "       [ 0.67724878],\n",
       "       [ 0.5341537 ],\n",
       "       [ 0.47612324],\n",
       "       [ 0.43448931],\n",
       "       [ 0.68808645],\n",
       "       [ 0.510337  ],\n",
       "       [ 0.48803958],\n",
       "       [ 0.75813711]], dtype=float32)"
      ]
     },
     "execution_count": 11,
     "metadata": {},
     "output_type": "execute_result"
    }
   ],
   "source": [
    "disc_fn(img)"
   ]
  },
  {
   "cell_type": "code",
   "execution_count": 12,
   "metadata": {
    "collapsed": false
   },
   "outputs": [
    {
     "data": {
      "text/plain": [
       "array([[ 0.34576783],\n",
       "       [ 0.20228077],\n",
       "       [ 0.4019542 ],\n",
       "       [ 0.52403039],\n",
       "       [ 0.30479434],\n",
       "       [ 0.54725045],\n",
       "       [ 0.40102032],\n",
       "       [ 0.40849492],\n",
       "       [ 0.44777289],\n",
       "       [ 0.2965647 ]], dtype=float32)"
      ]
     },
     "execution_count": 12,
     "metadata": {},
     "output_type": "execute_result"
    }
   ],
   "source": [
    "disc_fn(x_train[:10])"
   ]
  },
  {
   "cell_type": "code",
   "execution_count": null,
   "metadata": {
    "collapsed": true
   },
   "outputs": [],
   "source": []
  },
  {
   "cell_type": "code",
   "execution_count": null,
   "metadata": {
    "collapsed": true
   },
   "outputs": [],
   "source": []
  },
  {
   "cell_type": "code",
   "execution_count": 13,
   "metadata": {
    "collapsed": false
   },
   "outputs": [
    {
     "data": {
      "text/plain": [
       "[array(0.46438172459602356, dtype=float32)]"
      ]
     },
     "execution_count": 13,
     "metadata": {},
     "output_type": "execute_result"
    }
   ],
   "source": [
    "noise = np.random.normal(size=(1, noise_size))\n",
    "train_gen_fn(noise)"
   ]
  },
  {
   "cell_type": "code",
   "execution_count": null,
   "metadata": {
    "collapsed": false
   },
   "outputs": [],
   "source": []
  },
  {
   "cell_type": "code",
   "execution_count": 14,
   "metadata": {
    "collapsed": false
   },
   "outputs": [
    {
     "data": {
      "text/plain": [
       "[array(2.0832958221435547, dtype=float32)]"
      ]
     },
     "execution_count": 14,
     "metadata": {},
     "output_type": "execute_result"
    }
   ],
   "source": [
    "train_disc_fn(noise, x_train[:1])"
   ]
  },
  {
   "cell_type": "code",
   "execution_count": null,
   "metadata": {
    "collapsed": true
   },
   "outputs": [],
   "source": []
  },
  {
   "cell_type": "code",
   "execution_count": null,
   "metadata": {
    "collapsed": true
   },
   "outputs": [],
   "source": []
  },
  {
   "cell_type": "code",
   "execution_count": 15,
   "metadata": {
    "collapsed": true
   },
   "outputs": [],
   "source": [
    "from scipy.ndimage.filters import gaussian_filter\n",
    "def permute(img):\n",
    "        \n",
    "    rotation = random.choice([True, False])\n",
    "    flip = random.choice([True, False])\n",
    "    blur = random.randint(0,1)\n",
    "    pad = random.randint(0,5)\n",
    "    \n",
    "    if (pad != 0):\n",
    "        img = img[:,pad:-pad,pad:-pad]\n",
    "        img = [scipy.misc.imresize(img[0], image_size), \n",
    "               scipy.misc.imresize(img[1], image_size), \n",
    "               scipy.misc.imresize(img[2], image_size)]\n",
    "    \n",
    "    if (blur != 0):\n",
    "        img = gaussian_filter(img, sigma=blur)\n",
    "    \n",
    "    #rotate \n",
    "    if rotation:\n",
    "        img = [np.rot90(img[0], 2),np.rot90(img[1], 2) ,np.rot90(img[2], 2)]\n",
    "    \n",
    "    #flip \n",
    "    if (flip):\n",
    "        img = np.fliplr(img)  \n",
    "    \n",
    "    return img"
   ]
  },
  {
   "cell_type": "code",
   "execution_count": null,
   "metadata": {
    "collapsed": false
   },
   "outputs": [],
   "source": []
  },
  {
   "cell_type": "code",
   "execution_count": 16,
   "metadata": {
    "collapsed": true
   },
   "outputs": [],
   "source": [
    "num_samples = 1000"
   ]
  },
  {
   "cell_type": "code",
   "execution_count": null,
   "metadata": {
    "collapsed": true
   },
   "outputs": [],
   "source": []
  },
  {
   "cell_type": "code",
   "execution_count": 17,
   "metadata": {
    "collapsed": false
   },
   "outputs": [],
   "source": [
    "# ### D\n",
    "# lr.set_value(0.0001)\n",
    "# for i in range(10):\n",
    "#     errs = []\n",
    "#     for i in range(10):\n",
    "#         noise = np.random.normal(size=(num_samples, noise_size))\n",
    "#         samples = np.random.randint(0,len(x_train),num_samples)\n",
    "#         err = train_disc_fn(noise, x_train[samples])\n",
    "#         errs.append(err)\n",
    "#     print \"d\",np.mean(errs)"
   ]
  },
  {
   "cell_type": "code",
   "execution_count": null,
   "metadata": {
    "collapsed": true
   },
   "outputs": [],
   "source": []
  },
  {
   "cell_type": "code",
   "execution_count": 18,
   "metadata": {
    "collapsed": false
   },
   "outputs": [],
   "source": [
    "# ### G\n",
    "# lr.set_value(0.001)\n",
    "# for i in range(1000):\n",
    "#     errs = []\n",
    "#     for i in range(5):\n",
    "#         noise = np.random.normal(size=(num_samples, noise_size))\n",
    "#         err = train_gen_fn(noise)\n",
    "#         errs.append(err)\n",
    "#     print \"g\",np.mean(errs)"
   ]
  },
  {
   "cell_type": "code",
   "execution_count": null,
   "metadata": {
    "collapsed": true
   },
   "outputs": [],
   "source": []
  },
  {
   "cell_type": "code",
   "execution_count": 19,
   "metadata": {
    "collapsed": false,
    "scrolled": false
   },
   "outputs": [
    {
     "name": "stdout",
     "output_type": "stream",
     "text": [
      "d 0.0125346612185\n",
      "g 7.68578902353e-05\n",
      "d 0.0615852698684\n",
      "g 0.414748370647\n",
      "d 0.103958331048\n",
      "g 0.0718010738492\n",
      "d 0.273212939501\n",
      "g 0.452838987112\n",
      "d 0.460355490446\n",
      "g 0.376103579998\n",
      "d 0.272418439388\n",
      "g 0.34493470192\n",
      "d 0.173762694001\n",
      "g 0.189831957221\n",
      "d 0.1034437567\n",
      "g 0.168088853359\n",
      "d 0.443502545357\n",
      "g 0.278790801764\n",
      "d 0.452911704779\n",
      "g 0.425037235022\n",
      "d 0.35163629055\n",
      "g 0.484545350075\n",
      "d 0.298340409994\n",
      "g 0.371311455965\n",
      "d 0.25411438942\n",
      "g 0.286015421152\n",
      "d 0.240971207619\n",
      "g 0.397664904594\n",
      "d 0.215131118894\n",
      "g 0.395239621401\n",
      "d 0.279808849096\n",
      "g 0.305018156767\n",
      "d 0.326014965773\n",
      "g 0.255584985018\n",
      "d 0.254886865616\n",
      "g 0.31122636795\n",
      "d 0.383832603693\n",
      "g 0.457719683647\n",
      "d 0.343939512968\n",
      "g 0.474721610546\n",
      "d 0.417410373688\n",
      "g 0.414257079363\n",
      "d 0.391638815403\n",
      "g 0.347804367542\n",
      "d 0.43119430542\n",
      "g 0.378905326128\n",
      "d 0.381533801556\n",
      "g 0.391738861799\n",
      "d 0.436962455511\n",
      "g 0.411366254091\n",
      "d 0.415748804808\n",
      "g 0.408240109682\n",
      "d 0.437764257193\n",
      "g 0.44348269701\n",
      "d 0.469886481762\n",
      "g 0.400865793228\n",
      "d 0.43006888032\n",
      "g 0.338271051645\n",
      "d 0.499684214592\n",
      "g 0.380015611649\n",
      "d 0.490889042616\n",
      "g 0.365072458982\n",
      "d 0.4872366786\n",
      "g 0.457638323307\n",
      "d 0.454746603966\n",
      "g 0.333240091801\n",
      "d 0.46486055851\n",
      "g 0.420018672943\n",
      "d 0.429823666811\n",
      "g 0.49622091651\n",
      "d 0.451597094536\n",
      "g 0.48769530654\n",
      "d 0.358756035566\n",
      "g 0.472393453121\n",
      "d 0.471492826939\n",
      "g 0.377972394228\n",
      "d 0.44846791029\n",
      "g 0.368095308542\n",
      "d 0.49040299654\n",
      "g 0.33436742425\n",
      "d 0.485062003136\n",
      "g 0.434905797243\n",
      "d 0.452002644539\n",
      "g 0.333994686604\n",
      "d 0.388654619455\n",
      "g 0.3605248034\n",
      "d 0.431329578161\n",
      "g 0.354389518499\n",
      "d 0.492451965809\n",
      "g 0.434541225433\n",
      "d 0.471605807543\n",
      "g 0.320591002703\n",
      "d 0.475409775972\n",
      "g 0.465111583471\n",
      "d 0.444025278091\n",
      "g 0.28029447794\n",
      "d 0.403418660164\n",
      "g 0.416811734438\n",
      "d 0.469613313675\n",
      "g 0.401071161032\n",
      "d 0.477141559124\n",
      "g 0.383302748203\n",
      "d 0.468401223421\n",
      "g 0.434319615364\n",
      "d 0.470080733299\n",
      "g 0.384506165981\n",
      "d 0.490938097239\n",
      "g 0.462019652128\n",
      "d 0.440645843744\n",
      "g 0.378924190998\n",
      "d 0.488784790039\n",
      "g 0.34664273262\n",
      "d 0.493535816669\n",
      "g 0.359687358141\n",
      "d 0.458263397217\n",
      "g 0.424128770828\n",
      "d 0.478764295578\n",
      "g 0.391690254211\n",
      "d 0.493901103735\n",
      "g 0.466924905777\n",
      "d 0.467728376389\n",
      "g 0.390189379454\n",
      "d 0.45374661684\n",
      "g 0.370080649853\n",
      "d 0.462381601334\n",
      "g 0.477219939232\n",
      "d 0.491592019796\n",
      "g 0.354508310556\n",
      "d 0.457276284695\n",
      "g 0.363414973021\n",
      "d 0.482102513313\n",
      "g 0.401032030582\n",
      "d 0.466298699379\n",
      "g 0.351048320532\n",
      "d 0.487117856741\n",
      "g 0.417650967836\n",
      "d 0.466003239155\n",
      "g 0.453634023666\n",
      "d 0.460624337196\n",
      "g 0.395301699638\n",
      "d 0.475047111511\n",
      "g 0.350436598063\n",
      "d 0.489104360342\n",
      "g 0.442258775234\n",
      "d 0.492155522108\n",
      "g 0.455683976412\n",
      "d 0.451881676912\n",
      "g 0.320644110441\n",
      "d 0.489241331816\n",
      "g 0.437613576651\n",
      "d 0.475798279047\n",
      "g 0.407155305147\n",
      "d 0.498735308647\n",
      "g 0.344469547272\n",
      "d 0.470211952925\n",
      "g 0.389315247536\n",
      "d 0.495982289314\n",
      "g 0.423551648855\n",
      "d 0.477199584246\n",
      "g 0.383542001247\n",
      "d 0.490668296814\n",
      "g 0.367397904396\n",
      "d 0.494490325451\n",
      "g 0.450486421585\n",
      "d 0.480496525764\n",
      "g 0.411436796188\n",
      "d 0.490762263536\n",
      "g 0.352494686842\n",
      "d 0.476337820292\n",
      "g 0.397243052721\n",
      "d 0.496839255095\n",
      "g 0.469589084387\n",
      "d 0.497356712818\n",
      "g 0.342304646969\n",
      "d 0.470232605934\n",
      "g 0.474974632263\n",
      "d 0.490475147963\n",
      "g 0.457279920578\n",
      "d 0.469719111919\n",
      "g 0.355952650309\n",
      "d 0.481492578983\n",
      "g 0.355555176735\n",
      "d 0.48094150424\n",
      "g 0.324068307877\n",
      "d 0.472876667976\n",
      "g 0.326513707638\n",
      "d 0.49686601758\n",
      "g 0.478571772575\n",
      "d 0.469814509153\n",
      "g 0.42664167285\n",
      "d 0.459377706051\n",
      "g 0.339868485928\n",
      "d 0.470662027597\n",
      "g 0.457961857319\n",
      "d 0.477731853724\n",
      "g 0.292623758316\n",
      "d 0.482096850872\n",
      "g 0.426779001951\n",
      "d 0.491406321526\n",
      "g 0.454197853804\n"
     ]
    }
   ],
   "source": [
    "lr.set_value(0.0001)\n",
    "for j in range(100):\n",
    "    err = 1\n",
    "    while err > 0.5:\n",
    "        noise = np.random.normal(size=(num_samples, noise_size))\n",
    "        samples = np.random.randint(0,len(x_train),num_samples)\n",
    "        err = train_disc_fn(noise, x_train[samples])[0]\n",
    "    print \"d\",err\n",
    "\n",
    "    err = 1\n",
    "    while err > 0.5:\n",
    "        noise = np.random.normal(size=(num_samples, noise_size))\n",
    "        err = train_gen_fn(noise)[0]\n",
    "    print \"g\",err"
   ]
  },
  {
   "cell_type": "code",
   "execution_count": null,
   "metadata": {
    "collapsed": true
   },
   "outputs": [],
   "source": []
  },
  {
   "cell_type": "code",
   "execution_count": 20,
   "metadata": {
    "collapsed": false
   },
   "outputs": [
    {
     "name": "stdout",
     "output_type": "stream",
     "text": [
      "(10, 1, 28, 28)\n"
     ]
    },
    {
     "data": {
      "image/png": "[encoded data removed]",
      "text/plain": [
       "<matplotlib.figure.Figure at 0x7f7d1e1f3410>"
      ]
     },
     "metadata": {},
     "output_type": "display_data"
    }
   ],
   "source": [
    "noise = np.random.uniform(size=(10, noise_size))\n",
    "img = gen_fn(noise)\n",
    "print img.shape\n",
    "\n",
    "%matplotlib inline\n",
    "plt.rcParams['figure.figsize'] = (20, 5)\n",
    "plt.imshow(np.concatenate(img[:,0], axis=1),interpolation='none', cmap='gray');"
   ]
  },
  {
   "cell_type": "code",
   "execution_count": null,
   "metadata": {
    "collapsed": true
   },
   "outputs": [],
   "source": []
  },
  {
   "cell_type": "code",
   "execution_count": null,
   "metadata": {
    "collapsed": true
   },
   "outputs": [],
   "source": []
  },
  {
   "cell_type": "code",
   "execution_count": null,
   "metadata": {
    "collapsed": true
   },
   "outputs": [],
   "source": []
  },
  {
   "cell_type": "code",
   "execution_count": null,
   "metadata": {
    "collapsed": true
   },
   "outputs": [],
   "source": []
  },
  {
   "cell_type": "code",
   "execution_count": null,
   "metadata": {
    "collapsed": true
   },
   "outputs": [],
   "source": []
  }
 ],
 "metadata": {
  "kernelspec": {
   "display_name": "Python 2",
   "language": "python",
   "name": "python2"
  },
  "language_info": {
   "codemirror_mode": {
    "name": "ipython",
    "version": 2
   },
   "file_extension": ".py",
   "mimetype": "text/x-python",
   "name": "python",
   "nbconvert_exporter": "python",
   "pygments_lexer": "ipython2",
   "version": "2.7.13"
  }
 },
 "nbformat": 4,
 "nbformat_minor": 0
}
